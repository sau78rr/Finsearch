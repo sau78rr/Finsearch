{
 "cells": [
  {
   "cell_type": "code",
   "execution_count": 7,
   "metadata": {},
   "outputs": [
    {
     "name": "stdout",
     "output_type": "stream",
     "text": [
      "Defaulting to user installation because normal site-packages is not writeable\n",
      "Requirement already satisfied: yfinance in c:\\users\\saura\\appdata\\local\\packages\\pythonsoftwarefoundation.python.3.12_qbz5n2kfra8p0\\localcache\\local-packages\\python312\\site-packages (0.2.41)\n",
      "Requirement already satisfied: gym in c:\\users\\saura\\appdata\\local\\packages\\pythonsoftwarefoundation.python.3.12_qbz5n2kfra8p0\\localcache\\local-packages\\python312\\site-packages (0.26.2)\n",
      "Requirement already satisfied: pandas in c:\\users\\saura\\appdata\\local\\packages\\pythonsoftwarefoundation.python.3.12_qbz5n2kfra8p0\\localcache\\local-packages\\python312\\site-packages (2.2.2)\n",
      "Requirement already satisfied: numpy in c:\\users\\saura\\appdata\\local\\packages\\pythonsoftwarefoundation.python.3.12_qbz5n2kfra8p0\\localcache\\local-packages\\python312\\site-packages (1.26.4)\n",
      "Requirement already satisfied: statsmodels in c:\\users\\saura\\appdata\\local\\packages\\pythonsoftwarefoundation.python.3.12_qbz5n2kfra8p0\\localcache\\local-packages\\python312\\site-packages (0.14.2)\n",
      "Requirement already satisfied: requests>=2.31 in c:\\users\\saura\\appdata\\local\\packages\\pythonsoftwarefoundation.python.3.12_qbz5n2kfra8p0\\localcache\\local-packages\\python312\\site-packages (from yfinance) (2.32.3)\n",
      "Requirement already satisfied: multitasking>=0.0.7 in c:\\users\\saura\\appdata\\local\\packages\\pythonsoftwarefoundation.python.3.12_qbz5n2kfra8p0\\localcache\\local-packages\\python312\\site-packages (from yfinance) (0.0.11)\n",
      "Requirement already satisfied: lxml>=4.9.1 in c:\\users\\saura\\appdata\\local\\packages\\pythonsoftwarefoundation.python.3.12_qbz5n2kfra8p0\\localcache\\local-packages\\python312\\site-packages (from yfinance) (5.3.0)\n",
      "Requirement already satisfied: platformdirs>=2.0.0 in c:\\users\\saura\\appdata\\local\\packages\\pythonsoftwarefoundation.python.3.12_qbz5n2kfra8p0\\localcache\\local-packages\\python312\\site-packages (from yfinance) (4.2.2)\n",
      "Requirement already satisfied: pytz>=2022.5 in c:\\users\\saura\\appdata\\local\\packages\\pythonsoftwarefoundation.python.3.12_qbz5n2kfra8p0\\localcache\\local-packages\\python312\\site-packages (from yfinance) (2024.1)\n",
      "Requirement already satisfied: frozendict>=2.3.4 in c:\\users\\saura\\appdata\\local\\packages\\pythonsoftwarefoundation.python.3.12_qbz5n2kfra8p0\\localcache\\local-packages\\python312\\site-packages (from yfinance) (2.4.4)\n",
      "Requirement already satisfied: peewee>=3.16.2 in c:\\users\\saura\\appdata\\local\\packages\\pythonsoftwarefoundation.python.3.12_qbz5n2kfra8p0\\localcache\\local-packages\\python312\\site-packages (from yfinance) (3.17.6)\n",
      "Requirement already satisfied: beautifulsoup4>=4.11.1 in c:\\users\\saura\\appdata\\local\\packages\\pythonsoftwarefoundation.python.3.12_qbz5n2kfra8p0\\localcache\\local-packages\\python312\\site-packages (from yfinance) (4.12.3)\n",
      "Requirement already satisfied: html5lib>=1.1 in c:\\users\\saura\\appdata\\local\\packages\\pythonsoftwarefoundation.python.3.12_qbz5n2kfra8p0\\localcache\\local-packages\\python312\\site-packages (from yfinance) (1.1)\n",
      "Requirement already satisfied: cloudpickle>=1.2.0 in c:\\users\\saura\\appdata\\local\\packages\\pythonsoftwarefoundation.python.3.12_qbz5n2kfra8p0\\localcache\\local-packages\\python312\\site-packages (from gym) (3.0.0)\n",
      "Requirement already satisfied: gym-notices>=0.0.4 in c:\\users\\saura\\appdata\\local\\packages\\pythonsoftwarefoundation.python.3.12_qbz5n2kfra8p0\\localcache\\local-packages\\python312\\site-packages (from gym) (0.0.8)\n",
      "Requirement already satisfied: python-dateutil>=2.8.2 in c:\\users\\saura\\appdata\\local\\packages\\pythonsoftwarefoundation.python.3.12_qbz5n2kfra8p0\\localcache\\local-packages\\python312\\site-packages (from pandas) (2.9.0.post0)\n",
      "Requirement already satisfied: tzdata>=2022.7 in c:\\users\\saura\\appdata\\local\\packages\\pythonsoftwarefoundation.python.3.12_qbz5n2kfra8p0\\localcache\\local-packages\\python312\\site-packages (from pandas) (2024.1)\n",
      "Requirement already satisfied: scipy!=1.9.2,>=1.8 in c:\\users\\saura\\appdata\\local\\packages\\pythonsoftwarefoundation.python.3.12_qbz5n2kfra8p0\\localcache\\local-packages\\python312\\site-packages (from statsmodels) (1.14.0)\n",
      "Requirement already satisfied: patsy>=0.5.6 in c:\\users\\saura\\appdata\\local\\packages\\pythonsoftwarefoundation.python.3.12_qbz5n2kfra8p0\\localcache\\local-packages\\python312\\site-packages (from statsmodels) (0.5.6)\n",
      "Requirement already satisfied: packaging>=21.3 in c:\\users\\saura\\appdata\\local\\packages\\pythonsoftwarefoundation.python.3.12_qbz5n2kfra8p0\\localcache\\local-packages\\python312\\site-packages (from statsmodels) (24.1)\n",
      "Requirement already satisfied: soupsieve>1.2 in c:\\users\\saura\\appdata\\local\\packages\\pythonsoftwarefoundation.python.3.12_qbz5n2kfra8p0\\localcache\\local-packages\\python312\\site-packages (from beautifulsoup4>=4.11.1->yfinance) (2.6)\n",
      "Requirement already satisfied: six>=1.9 in c:\\users\\saura\\appdata\\local\\packages\\pythonsoftwarefoundation.python.3.12_qbz5n2kfra8p0\\localcache\\local-packages\\python312\\site-packages (from html5lib>=1.1->yfinance) (1.16.0)\n",
      "Requirement already satisfied: webencodings in c:\\users\\saura\\appdata\\local\\packages\\pythonsoftwarefoundation.python.3.12_qbz5n2kfra8p0\\localcache\\local-packages\\python312\\site-packages (from html5lib>=1.1->yfinance) (0.5.1)\n",
      "Requirement already satisfied: charset-normalizer<4,>=2 in c:\\users\\saura\\appdata\\local\\packages\\pythonsoftwarefoundation.python.3.12_qbz5n2kfra8p0\\localcache\\local-packages\\python312\\site-packages (from requests>=2.31->yfinance) (3.3.2)\n",
      "Requirement already satisfied: idna<4,>=2.5 in c:\\users\\saura\\appdata\\local\\packages\\pythonsoftwarefoundation.python.3.12_qbz5n2kfra8p0\\localcache\\local-packages\\python312\\site-packages (from requests>=2.31->yfinance) (3.7)\n",
      "Requirement already satisfied: urllib3<3,>=1.21.1 in c:\\users\\saura\\appdata\\local\\packages\\pythonsoftwarefoundation.python.3.12_qbz5n2kfra8p0\\localcache\\local-packages\\python312\\site-packages (from requests>=2.31->yfinance) (2.2.2)\n",
      "Requirement already satisfied: certifi>=2017.4.17 in c:\\users\\saura\\appdata\\local\\packages\\pythonsoftwarefoundation.python.3.12_qbz5n2kfra8p0\\localcache\\local-packages\\python312\\site-packages (from requests>=2.31->yfinance) (2024.6.2)\n",
      "Note: you may need to restart the kernel to use updated packages.\n"
     ]
    },
    {
     "name": "stderr",
     "output_type": "stream",
     "text": [
      "\n",
      "[notice] A new release of pip is available: 24.1.2 -> 24.2\n",
      "[notice] To update, run: C:\\Users\\saura\\AppData\\Local\\Microsoft\\WindowsApps\\PythonSoftwareFoundation.Python.3.12_qbz5n2kfra8p0\\python.exe -m pip install --upgrade pip\n"
     ]
    }
   ],
   "source": [
    "pip install yfinance gym pandas numpy statsmodels\n"
   ]
  },
  {
   "cell_type": "code",
   "execution_count": 21,
   "metadata": {},
   "outputs": [],
   "source": [
    "import pandas as pd\n",
    "import numpy as np\n",
    "import gym\n",
    "from statsmodels.tsa.arima.model import ARIMA\n",
    "import yfinance as yf\n",
    "\n",
    "# Define the custom trading environment\n",
    "class StockTradingEnv(gym.Env):\n",
    "    def __init__(self, df):\n",
    "        super(StockTradingEnv, self).__init__()\n",
    "        self.df = df\n",
    "        self.action_space = gym.spaces.Box(low=-1, high=1, shape=(1,), dtype=np.float32)\n",
    "        self.observation_space = gym.spaces.Box(low=-np.inf, high=np.inf, shape=(5,), dtype=np.float32)\n",
    "        self.reset()\n",
    "\n",
    "    def reset(self):\n",
    "        self.current_step = 0\n",
    "        self.cash = 10000\n",
    "        self.shares_held = 0\n",
    "        return self._next_observation()\n",
    "\n",
    "    def _next_observation(self):\n",
    "        obs = np.array([\n",
    "            self.df.iloc[self.current_step]['Close'],\n",
    "            self.cash,\n",
    "            self.shares_held,\n",
    "            self.df.iloc[self.current_step]['MACD'],\n",
    "            self.df.iloc[self.current_step]['RSI']\n",
    "        ])\n",
    "        return obs\n",
    "\n",
    "    def step(self, action):\n",
    "        current_price = self.df.iloc[self.current_step]['Close']\n",
    "        action = action[0]\n",
    "\n",
    "        if action > 0:  # buy\n",
    "            n_shares = self.cash * action / current_price\n",
    "            self.cash -= n_shares * current_price\n",
    "            self.shares_held += n_shares\n",
    "        elif action < 0:  # sell\n",
    "            n_shares = -self.shares_held * action\n",
    "            self.cash += n_shares * current_price\n",
    "            self.shares_held -= n_shares\n",
    "\n",
    "        self.current_step += 1\n",
    "        done = self.current_step >= len(self.df) - 1\n",
    "        reward = self.cash + self.shares_held * current_price\n",
    "\n",
    "        obs = self._next_observation()\n",
    "        return obs, reward, done, {}\n",
    "\n",
    "    def render(self, mode='human', close=False):\n",
    "        pass\n",
    "\n",
    "\n"
   ]
  },
  {
   "cell_type": "code",
   "execution_count": 22,
   "metadata": {},
   "outputs": [
    {
     "name": "stderr",
     "output_type": "stream",
     "text": [
      "[*********************100%%**********************]  1 of 1 completed\n"
     ]
    }
   ],
   "source": [
    "\n",
    "# Download stock data from Yahoo Finance\n",
    "ticker = \"^NSEI\" \n",
    "start_date = \"2023-08-10\"\n",
    "end_date = \"2024-08-10\"\n",
    "df = yf.download(ticker, start=start_date, end=end_date)\n"
   ]
  },
  {
   "cell_type": "code",
   "execution_count": 23,
   "metadata": {},
   "outputs": [],
   "source": [
    " #Add technical indicators (MACD and RSI)\n",
    "def calculate_macd(data, short_window=12, long_window=26, signal_window=9):\n",
    "    short_ema = data['Close'].ewm(span=short_window, adjust=False).mean()\n",
    "    long_ema = data['Close'].ewm(span=long_window, adjust=False).mean()\n",
    "    macd = short_ema - long_ema\n",
    "    signal = macd.ewm(span=signal_window, adjust=False).mean()\n",
    "    return macd, signal\n",
    "\n",
    "def calculate_rsi(data, window=14):\n",
    "    delta = data['Close'].diff(1)\n",
    "    gain = delta.where(delta > 0, 0)\n",
    "    loss = -delta.where(delta < 0, 0)\n",
    "    avg_gain = gain.rolling(window=window).mean()\n",
    "    avg_loss = loss.rolling(window=window).mean()\n",
    "    rs = avg_gain / avg_loss\n",
    "    rsi = 100 - (100 / (1 + rs))\n",
    "    return rsi\n",
    "\n",
    "df['MACD'], df['Signal'] = calculate_macd(df)\n",
    "df['RSI'] = calculate_rsi(df)\n",
    "df.dropna(inplace=True)  \n",
    "\n",
    "# Set frequency for date index\n",
    "df.index = pd.to_datetime(df.index)\n",
    "df = df.asfreq('D')  # Assuming daily frequency"
   ]
  },
  {
   "cell_type": "code",
   "execution_count": 24,
   "metadata": {},
   "outputs": [],
   "source": [
    "# Split the data\n",
    "train_df = df[:int(0.6*len(df))]\n",
    "validate_df = df[int(0.6*len(df)):int(0.8*len(df))]\n",
    "test_df = df[int(0.8*len(df)):]"
   ]
  },
  {
   "cell_type": "code",
   "execution_count": 25,
   "metadata": {},
   "outputs": [
    {
     "name": "stdout",
     "output_type": "stream",
     "text": [
      "Validation Sharpe Ratio: 0.0707660197834547\n"
     ]
    },
    {
     "name": "stderr",
     "output_type": "stream",
     "text": [
      "C:\\Users\\saura\\AppData\\Local\\Temp\\ipykernel_8040\\1436750106.py:11: FutureWarning: The default fill_method='pad' in Series.pct_change is deprecated and will be removed in a future version. Either fill in any non-leading NA values prior to calling pct_change or specify 'fill_method=None' to not fill NA values.\n",
      "  validate_returns = validate_df['Close'].pct_change().dropna()\n"
     ]
    }
   ],
   "source": [
    "# Fit ARIMA model on the training data\n",
    "train_close = train_df['Close']\n",
    "model = ARIMA(train_close, order=(5, 1, 0))  # ARIMA(p, d, q)\n",
    "model_fit = model.fit()\n",
    "\n",
    "# Predict on the validation data\n",
    "validate_predictions = model_fit.forecast(steps=len(validate_df))\n",
    "validate_predictions_series = pd.Series(validate_predictions, index=validate_df.index)\n",
    "\n",
    "# Calculate returns\n",
    "validate_returns = validate_df['Close'].pct_change().dropna()\n",
    "predicted_returns = validate_predictions_series.pct_change().dropna()\n",
    "\n",
    "# Calculate Sharpe Ratio manually\n",
    "def calculate_sharpe_ratio(returns, risk_free_rate=0):\n",
    "    mean_return = returns.mean()\n",
    "    return_std = returns.std()\n",
    "    if return_std == 0:\n",
    "        return np.nan  # Avoid division by zero\n",
    "    sharpe_ratio = (mean_return - risk_free_rate) / return_std\n",
    "    return sharpe_ratio\n",
    "\n",
    "sharpe_ratio_validate = calculate_sharpe_ratio(validate_returns)\n",
    "print(f\"Validation Sharpe Ratio: {sharpe_ratio_validate}\")\n"
   ]
  },
  {
   "cell_type": "code",
   "execution_count": 26,
   "metadata": {},
   "outputs": [
    {
     "name": "stdout",
     "output_type": "stream",
     "text": [
      "Test Sharpe Ratio: 0.07141203823868351\n",
      "Final Portfolio Value: 10000.0\n"
     ]
    },
    {
     "name": "stderr",
     "output_type": "stream",
     "text": [
      "C:\\Users\\saura\\AppData\\Local\\Temp\\ipykernel_8040\\930421905.py:6: FutureWarning: The default fill_method='pad' in Series.pct_change is deprecated and will be removed in a future version. Either fill in any non-leading NA values prior to calling pct_change or specify 'fill_method=None' to not fill NA values.\n",
      "  test_returns = test_df['Close'].pct_change().dropna()\n",
      "C:\\Users\\saura\\AppData\\Local\\Temp\\ipykernel_8040\\930421905.py:7: FutureWarning: The default fill_method='pad' in Series.pct_change is deprecated and will be removed in a future version. Either fill in any non-leading NA values prior to calling pct_change or specify 'fill_method=None' to not fill NA values.\n",
      "  predicted_test_returns = test_predictions_series.pct_change().dropna()\n"
     ]
    }
   ],
   "source": [
    "# Predict on the test data\n",
    "test_predictions = model_fit.forecast(steps=len(test_df))\n",
    "test_predictions_series = pd.Series(test_predictions, index=test_df.index)\n",
    "\n",
    "# Calculate Sharpe Ratio for test set\n",
    "test_returns = test_df['Close'].pct_change().dropna()\n",
    "predicted_test_returns = test_predictions_series.pct_change().dropna()\n",
    "sharpe_ratio_test = calculate_sharpe_ratio(test_returns)\n",
    "print(f\"Test Sharpe Ratio: {sharpe_ratio_test}\")\n",
    "\n",
    "# Final Portfolio Value\n",
    "test_env = StockTradingEnv(test_df)\n",
    "test_env.reset()\n",
    "\n",
    "# Simulate holding strategy (action = [0] for holding)\n",
    "actions = [[0]] * len(test_df)  # Hold all the time\n",
    "for action in actions:\n",
    "    obs, reward, done, info = test_env.step(action)\n",
    "    if done:\n",
    "        break\n",
    "\n",
    "portfolio_value = test_env.cash + test_env.shares_held * test_df.iloc[test_env.current_step]['Close']\n",
    "print(f\"Final Portfolio Value: {portfolio_value}\")\n"
   ]
  },
  {
   "cell_type": "code",
   "execution_count": 27,
   "metadata": {},
   "outputs": [
    {
     "name": "stderr",
     "output_type": "stream",
     "text": [
      "C:\\Users\\saura\\AppData\\Local\\Temp\\ipykernel_8040\\795205414.py:1: FutureWarning: The default fill_method='pad' in Series.pct_change is deprecated and will be removed in a future version. Either fill in any non-leading NA values prior to calling pct_change or specify 'fill_method=None' to not fill NA values.\n",
      "  returns = test_env.df['Close'].pct_change().dropna()\n"
     ]
    }
   ],
   "source": [
    "returns = test_env.df['Close'].pct_change().dropna()"
   ]
  },
  {
   "cell_type": "code",
   "execution_count": 28,
   "metadata": {},
   "outputs": [
    {
     "name": "stdout",
     "output_type": "stream",
     "text": [
      "Date\n",
      "2024-06-04   -0.059294\n",
      "2024-06-05    0.033624\n",
      "2024-06-06    0.008888\n",
      "2024-06-07    0.020540\n",
      "2024-06-08    0.000000\n",
      "                ...   \n",
      "2024-08-05   -0.026786\n",
      "2024-08-06   -0.002621\n",
      "2024-08-07    0.012710\n",
      "2024-08-08   -0.007429\n",
      "2024-08-09    0.010387\n",
      "Freq: D, Name: Close, Length: 67, dtype: float64\n"
     ]
    }
   ],
   "source": [
    "print(returns)"
   ]
  },
  {
   "cell_type": "code",
   "execution_count": 29,
   "metadata": {},
   "outputs": [
    {
     "name": "stdout",
     "output_type": "stream",
     "text": [
      "Sharpe Ratio: 0.07141203823868351\n"
     ]
    }
   ],
   "source": [
    "print(f\"Sharpe Ratio: {sharpe_ratio_test}\")"
   ]
  },
  {
   "cell_type": "code",
   "execution_count": null,
   "metadata": {},
   "outputs": [],
   "source": []
  }
 ],
 "metadata": {
  "kernelspec": {
   "display_name": "Python 3",
   "language": "python",
   "name": "python3"
  },
  "language_info": {
   "codemirror_mode": {
    "name": "ipython",
    "version": 3
   },
   "file_extension": ".py",
   "mimetype": "text/x-python",
   "name": "python",
   "nbconvert_exporter": "python",
   "pygments_lexer": "ipython3",
   "version": "3.12.5"
  }
 },
 "nbformat": 4,
 "nbformat_minor": 2
}
